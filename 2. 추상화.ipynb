{
 "cells": [
  {
   "cell_type": "code",
   "execution_count": 1,
   "metadata": {},
   "outputs": [
    {
     "name": "stdout",
     "output_type": "stream",
     "text": [
      "함수 시작\n",
      "9\n",
      "hello world\n"
     ]
    }
   ],
   "source": [
    "##return의 역할  : (함수가) 무언가를 돌려주는 것!\n",
    "# 함수 즉시 종료 \n",
    "def square(x):\n",
    "    print(\"함수 시작\")\n",
    "    return(x*x)\n",
    "    print(\"함수 끝\")     ##dead code 아무의미 없음\n",
    "print(square(3))\n",
    "print(\"hello world\")\n",
    "\n"
   ]
  },
  {
   "cell_type": "code",
   "execution_count": 2,
   "metadata": {},
   "outputs": [
    {
     "name": "stdout",
     "output_type": "stream",
     "text": [
      "25\n",
      "None\n"
     ]
    }
   ],
   "source": [
    "# return과 print의 차이\n",
    "def print_square(x) :\n",
    "    print(x*x)\n",
    "    \n",
    "def get_square(x) : \n",
    "    return x*x\n",
    "\n",
    "print(print_square(5))"
   ]
  },
  {
   "cell_type": "code",
   "execution_count": 6,
   "metadata": {},
   "outputs": [
    {
     "name": "stdout",
     "output_type": "stream",
     "text": [
      "내 이름은 류승권이고\n",
      "나이는 24살이고\n",
      "국적은 한국이야\n"
     ]
    }
   ],
   "source": [
    "# 옵셔널 파라미터\n",
    "def myself (name,age,nationality = \"한국\"):\n",
    "    #print(f\"내 이름은 {name}\")\n",
    "    print(\"내 이름은 {}이고\".format(name))\n",
    "    print(f\"나이는 {age}이고\")  #f-string\n",
    "    print(f\"국적은 {nationality}이야\")\n",
    "\n",
    "myself(\"류승권\",\"24살\")   ##옵셔널 파라미터는 무조건 마지막에만 // 중간에 있으면 오류남"
   ]
  },
  {
   "cell_type": "code",
   "execution_count": null,
   "metadata": {},
   "outputs": [],
   "source": [
    "# 다음 두 줄은 같습니다\n",
    "x = x + 1\n",
    "x += 1\n",
    "\n",
    "# 다음 두 줄은 같습니다\n",
    "x = x + 2\n",
    "x += 2\n",
    "\n",
    "# 다음 두 줄은 같습니다\n",
    "x = x * 2\n",
    "x *= 2\n",
    "\n",
    "# 다음 두 줄은 같습니다\n",
    "x = x - 3\n",
    "x -= 3\n",
    "\n",
    "# 다음 두 줄은 같습니다\n",
    "x = x / 2\n",
    "x /= 2\n",
    "\n",
    "# 다음 두 줄은 같습니다\n",
    "x = x % 7\n",
    "x %= 7"
   ]
  },
  {
   "cell_type": "code",
   "execution_count": 10,
   "metadata": {},
   "outputs": [
    {
     "name": "stdout",
     "output_type": "stream",
     "text": [
      "안녕하세요. 영훈입니다.\n",
      "만나서 반갑습니다.\n"
     ]
    }
   ],
   "source": [
    "def hello(name):\n",
    "    print(f\"안녕하세요. {name}입니다.\")\n",
    "    return \"만나서 반갑습니다.\"\n",
    "\n",
    "print(hello(\"영훈\"))\n",
    "#hello(\"승권\")"
   ]
  },
  {
   "cell_type": "code",
   "execution_count": null,
   "metadata": {},
   "outputs": [],
   "source": [
    "##scope(범위)\n",
    "def my_function () :\n",
    "    x = 3    ##로컬 변수 이 함수 내에서만 사용 가능\n",
    "    print(x)\n",
    "    \n",
    "my_function()\n",
    "#print(x) ##이거는 에러\n",
    "\n",
    "a = 2   ##글로별 변수 모든 곳에서 사용 가능\n",
    "def my_function2() : \n",
    "    print(a)\n",
    "my_function2()\n",
    "print(a)\n",
    "\n",
    "c = 2 ##글로벌변수\n",
    "def my_function3():\n",
    "    c = 3 #로컬변수\n",
    "    print(c)\n",
    "my_function3()\n",
    "print(c)"
   ]
  },
  {
   "cell_type": "code",
   "execution_count": 16,
   "metadata": {},
   "outputs": [
    {
     "name": "stdout",
     "output_type": "stream",
     "text": [
      "반지름이 4이면 원의 넓이는 50.24이다\n"
     ]
    }
   ],
   "source": [
    "# 상수 (constant) 상수는 대문자로\n",
    "PI = 3.14\n",
    "\n",
    "#반지름을 받아서 원의 넓이 계산\n",
    "def calculate_area(r):\n",
    "    return PI * r * r\n",
    "radius = 4 #반지름\n",
    "#print(\"반지름이 {}이면 원의 넓이는 {}이다\".format(radius,calculate_area(radius)))\n",
    "\n",
    "print(f\"반지름이 {radius}이면 원의 넓이는 {calculate_area(radius)}이다\")\n",
    "\n"
   ]
  }
 ],
 "metadata": {
  "kernelspec": {
   "display_name": "Python 3",
   "language": "python",
   "name": "python3"
  },
  "language_info": {
   "codemirror_mode": {
    "name": "ipython",
    "version": 3
   },
   "file_extension": ".py",
   "mimetype": "text/x-python",
   "name": "python",
   "nbconvert_exporter": "python",
   "pygments_lexer": "ipython3",
   "version": "3.11.3"
  },
  "orig_nbformat": 4
 },
 "nbformat": 4,
 "nbformat_minor": 2
}
