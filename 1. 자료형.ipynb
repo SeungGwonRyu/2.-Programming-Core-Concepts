{
 "cells": [
  {
   "cell_type": "code",
   "execution_count": 1,
   "metadata": {},
   "outputs": [
    {
     "name": "stdout",
     "output_type": "stream",
     "text": [
      "'응답하라 1988'은 많은 시청자들에게 사랑을 받은 드라마예요.\n",
      "데카르트는 \"나는 생각한다. 고로 존재한다.\"라고 말했다.\n"
     ]
    }
   ],
   "source": [
    "print(\"\\'응답하라 1988\\'은 많은 시청자들에게 사랑을 받은 드라마예요.\")\n",
    "print(\"데카르트는 \\\"나는 생각한다. 고로 존재한다.\\\"라고 말했다.\")"
   ]
  },
  {
   "cell_type": "code",
   "execution_count": 7,
   "metadata": {},
   "outputs": [
    {
     "name": "stdout",
     "output_type": "stream",
     "text": [
      "1.0\n",
      "8.0\n",
      "3\n",
      "3.14091\n"
     ]
    }
   ],
   "source": [
    "#나머지\n",
    "print(7.0%3.0)\n",
    "\n",
    "#거듭제곱\n",
    "print(2.0**3.0)\n",
    "\n",
    "#floor division (버림 나눗셈)\n",
    "print(7//2)\n",
    "\n",
    "#round(반올림)\n",
    "print(round(3.1409089988,5 ))"
   ]
  },
  {
   "cell_type": "code",
   "execution_count": 8,
   "metadata": {},
   "outputs": [
    {
     "name": "stdout",
     "output_type": "stream",
     "text": [
      "3\n",
      "3.0\n",
      "7\n",
      "3.6\n",
      "25\n",
      "제 나이는7살입니다\n"
     ]
    }
   ],
   "source": [
    "#형 변환\n",
    "print(int(3.0))   ## int >> 정수만 소수는 없음\n",
    "print(float(3))\n",
    "print(int(\"2\")+int(\"5\"))\n",
    "print(float(\"1.1\") + float(\"2.5\"))\n",
    "\n",
    "print(str(2) + str(5))\n",
    "age = 7\n",
    "print(\"제 나이는\" + str(age) + \"살입니다\")\n"
   ]
  },
  {
   "cell_type": "code",
   "execution_count": 9,
   "metadata": {},
   "outputs": [
    {
     "name": "stdout",
     "output_type": "stream",
     "text": [
      "오늘은 2019년 10월 32일 입니다\n"
     ]
    }
   ],
   "source": [
    "# format을 이용한 문자열 포맷팅\n",
    "year = 2019\n",
    "month = 10\n",
    "day = 29\n",
    "\n",
    "date_string = \"오늘은 {}년 {}월 {}일 입니다\"\n",
    "print(date_string. format(year, month, day+3))"
   ]
  },
  {
   "cell_type": "code",
   "execution_count": 12,
   "metadata": {},
   "outputs": [
    {
     "name": "stdout",
     "output_type": "stream",
     "text": [
      "저는 빌게이츠, 박지성, 유재석를 좋아합니다\n",
      "1 나누기 3은 0.33입니다.\n"
     ]
    }
   ],
   "source": [
    "#format 다루기\n",
    "print(\"저는 {2}, {0}, {1}를 좋아합니다\".format(\"박지성\", \"유재석\", \"빌게이츠\"))\n",
    "num_1 = 1\n",
    "num_2 = 3\n",
    "print(\"{0} 나누기 {1}은 {2:.2f}입니다.\".format(num_1, num_2, num_1/num_2))  ## {2:.2f} 는 f = floating point .2는 두번째 자리까지표현"
   ]
  },
  {
   "cell_type": "code",
   "execution_count": 11,
   "metadata": {},
   "outputs": [
    {
     "name": "stdout",
     "output_type": "stream",
     "text": [
      "제 이름은 류승권이고 제 나이는 24살 입니다\n"
     ]
    }
   ],
   "source": [
    "#새로운 방식 (f-string) 이게 더 트렌디함.\n",
    "name = \"류승권\"\n",
    "age = \"24\"\n",
    "print(f\"제 이름은 {name}이고 제 나이는 {age}살 입니다\")\n"
   ]
  },
  {
   "cell_type": "code",
   "execution_count": null,
   "metadata": {},
   "outputs": [],
   "source": [
    "##문자 열 포매팅 연습\n",
    "wage = 5  # 시급 (1시간에 5달러)\n",
    "exchange_rate = 1142.16  # 환율 (1달러에 1142.16원)\n",
    "\n",
    "# \"1시간에 5달러 벌었습니다.\" 출력\n",
    "print(\"{}시간에 {}{} 벌었습니다.\".format(1, wage * 1, \"달러\"))\n",
    "\n",
    "# \"5시간에 25달러 벌었습니다.\" 출력\n",
    "print()  # 코드를 채워 넣으세요.\n",
    "\n",
    "# \"1시간에 5710.8원 벌었습니다.\" 출력\n",
    "print()  # 코드를 채워 넣으세요.\n",
    "\n",
    "# \"5시간에 28554.0원 벌었습니다.\" 출력\n",
    "print()  # 코드를 채워 넣으세요.\n"
   ]
  },
  {
   "cell_type": "code",
   "execution_count": null,
   "metadata": {},
   "outputs": [],
   "source": [
    "# 불 대수\n",
    "# 불대수 의 값 , 진리값\n",
    "#and 연산 \n",
    "# x와 y가 모두 참일 때만 x AND y 가 참\n",
    "# 대한민국의 수도는 서울이고, 2는 1보다 크다 >> ture\n",
    "#or 연산\n",
    "# x와 y중 하나라도 참이면 x OR y는 참\n",
    "#not 연산"
   ]
  },
  {
   "cell_type": "code",
   "execution_count": 1,
   "metadata": {},
   "outputs": [
    {
     "name": "stdout",
     "output_type": "stream",
     "text": [
      "True\n",
      "True\n",
      "False\n",
      "True\n",
      "False\n"
     ]
    }
   ],
   "source": [
    "#불린 (Boolean)\n",
    "print(2 > 1 and \"Hello\" == \"Hello\") #True and True\n",
    "print(not not True)  #not False\n",
    "print(not not False) #not True\n",
    "print( 7 == 7 or (4 < 3 and 12 > 10)) #True or False\n",
    "x = 3\n",
    "print( x > 4 or not (x < 2 or x==3)) #False or False"
   ]
  },
  {
   "cell_type": "code",
   "execution_count": 14,
   "metadata": {},
   "outputs": [
    {
     "name": "stdout",
     "output_type": "stream",
     "text": [
      "<class 'int'>\n",
      "<class 'float'>\n",
      "<class 'str'>\n",
      "<class 'str'>\n",
      "<class 'bool'>\n",
      "<class 'function'>\n",
      "<class 'builtin_function_or_method'>\n"
     ]
    }
   ],
   "source": [
    "# type 함수\n",
    "print(type(3)) #정수\n",
    "print(type(3.0)) #소수형\n",
    "print(type(\"3\")) #문자형\n",
    "print(type(\"True\"))\n",
    "print(type(True))\n",
    "def hello() : \n",
    "    print(\"Hello world!\")\n",
    "print(type(hello))  #함수\n",
    "print(type(print)) #내장되어있는 함수 (기본적으로 파이썬에 내장)\n"
   ]
  },
  {
   "cell_type": "code",
   "execution_count": 5,
   "metadata": {},
   "outputs": [
    {
     "name": "stdout",
     "output_type": "stream",
     "text": [
      "<class 'float'>\n",
      "<class 'int'>\n"
     ]
    }
   ],
   "source": [
    "print(type(4 / 2))   ##나누기하면 무조건 소수로 정수로 바꾸고 싶으면\n",
    "print(type(4//2))   # // 이렇게 두번쓰면 float가 아니라 int로 나옴"
   ]
  },
  {
   "cell_type": "code",
   "execution_count": 2,
   "metadata": {},
   "outputs": [
    {
     "name": "stdout",
     "output_type": "stream",
     "text": [
      "False\n",
      "False\n",
      "True\n",
      "True\n",
      "False\n"
     ]
    }
   ],
   "source": [
    "# 실습 문제 짝수에는 true가 나오게\n",
    "def is_evenly_divisible(number):\n",
    "    # 여기에 코드를 작성하세요\n",
    "    \n",
    "\n",
    "# 테스트 코드\n",
    "print(is_evenly_divisible(3))\n",
    "print(is_evenly_divisible(7))\n",
    "print(is_evenly_divisible(8))\n",
    "print(is_evenly_divisible(218))\n",
    "print(is_evenly_divisible(317))"
   ]
  },
  {
   "cell_type": "code",
   "execution_count": 15,
   "metadata": {},
   "outputs": [
    {
     "ename": "IndentationError",
     "evalue": "expected an indented block after function definition on line 3 (2327697836.py, line 10)",
     "output_type": "error",
     "traceback": [
      "\u001b[0;36m  Cell \u001b[0;32mIn[15], line 10\u001b[0;36m\u001b[0m\n\u001b[0;31m    calculate_change(100000, 33000)\u001b[0m\n\u001b[0m    ^\u001b[0m\n\u001b[0;31mIndentationError\u001b[0m\u001b[0;31m:\u001b[0m expected an indented block after function definition on line 3\n"
     ]
    }
   ],
   "source": [
    "#실습 문제\n",
    "\n",
    "def calculate_change(payment, cost):\n",
    "    # 여기에 코드를 작성하세요\n",
    "    \n",
    "\n",
    "\n",
    "\n",
    "# 테스트 코드\n",
    "calculate_change(100000, 33000)\n",
    "print()\n",
    "calculate_change(500000, 378000)\n",
    "\n",
    "\n",
    "\n",
    "\n",
    "\n",
    "# 50000원 지폐: 1장\n",
    "# 10000원 지폐: 1장\n",
    "# 5000원 지폐: 1장\n",
    "# 1000원 지폐: 2장\n",
    "\n",
    "# 50000원 지폐: 2장\n",
    "# 10000원 지폐: 2장\n",
    "# 5000원 지폐: 0장\n",
    "# 1000원 지폐: 2장"
   ]
  },
  {
   "cell_type": "code",
   "execution_count": null,
   "metadata": {},
   "outputs": [],
   "source": []
  }
 ],
 "metadata": {
  "kernelspec": {
   "display_name": "Python 3",
   "language": "python",
   "name": "python3"
  },
  "language_info": {
   "codemirror_mode": {
    "name": "ipython",
    "version": 3
   },
   "file_extension": ".py",
   "mimetype": "text/x-python",
   "name": "python",
   "nbconvert_exporter": "python",
   "pygments_lexer": "ipython3",
   "version": "3.11.3"
  },
  "orig_nbformat": 4
 },
 "nbformat": 4,
 "nbformat_minor": 2
}
