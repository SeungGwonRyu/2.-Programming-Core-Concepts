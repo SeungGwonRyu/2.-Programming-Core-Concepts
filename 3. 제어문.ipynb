{
 "cells": [
  {
   "cell_type": "code",
   "execution_count": null,
   "metadata": {},
   "outputs": [],
   "source": [
    "#while 반복문 문법\n",
    "#while 조건 부분 :  #불린 값\n",
    "#    수행 부분\n",
    "\n",
    "i = 1\n",
    "while i <= 10:  ## i가 10보다 작으면 i를 1씩 키워라 i 가 i를 더이상 키우지 마라\n",
    "    i +=1\n",
    "    print(\"류승권 천재\")"
   ]
  },
  {
   "cell_type": "code",
   "execution_count": null,
   "metadata": {},
   "outputs": [],
   "source": [
    "i = 0\n",
    "while i <= 98 : \n",
    "    i += 2\n",
    "    print(i)"
   ]
  },
  {
   "cell_type": "code",
   "execution_count": null,
   "metadata": {},
   "outputs": [
    {
     "name": "stdout",
     "output_type": "stream",
     "text": [
      "115\n"
     ]
    }
   ],
   "source": [
    "# 100이상의 자연수 중에서 가장 작은 23의 배수\n",
    "i = 100\n",
    "\n",
    "# 여기에 코드를 작성하세요\n",
    "while i % 23 != 0 :    ## i를 23으로 나누었을때 나머지가 0이 아니면 i를 1씩 키워라 >> i를 23으로 나누었을때 0이면 i를 키우지 마라\n",
    "    i += 1\n",
    "\n",
    "print(i)\n"
   ]
  },
  {
   "cell_type": "code",
   "execution_count": null,
   "metadata": {},
   "outputs": [],
   "source": [
    "while 다운로드 안 받은 이미지가 있다 :\n",
    "    다음 이미지를 본다\n",
    "    if 이미지가 png 파일이다 :\n",
    "        이미지를 다운로드 받는다\n",
    "    else :\n",
    "        print(\"png가 아닙니다!\")"
   ]
  },
  {
   "cell_type": "code",
   "execution_count": null,
   "metadata": {},
   "outputs": [],
   "source": [
    "temperature = 15\n",
    "if temperature <= 10 :\n",
    "    print(\"자켓을 입는다\")\n",
    "else : #if 안에 들어가는게 아님\n",
    "    print(\"자켓을 입지 않는다\")   \n"
   ]
  },
  {
   "cell_type": "code",
   "execution_count": null,
   "metadata": {},
   "outputs": [],
   "source": [
    "# #elif 문\n",
    "# if 점수가 90점 이상이다 :\n",
    "#     a를 준다\n",
    "# elif 점수가 80점 이상이다 : \n",
    "#     b를 준다\n",
    "# elif 점수가 70점 이상이다 :\n",
    "#     c를 준다\n",
    "# elif 점수가 60점 이상이다 :\n",
    "#     d를 준다\n",
    "# else:\n",
    "#     f를 준다"
   ]
  },
  {
   "cell_type": "code",
   "execution_count": null,
   "metadata": {},
   "outputs": [],
   "source": [
    "def print_grade(midterm_score, final_score):\n",
    "    total = midterm_score + final_score\n",
    "    # 여기에 코드를 작성하세요\n",
    "if total >= 90\n",
    "\n",
    "# 테스트 코드\n",
    "print_grade(40, 45)\n",
    "print_grade(20, 35)\n",
    "print_grade(30, 32)\n",
    "print_grade(50, 45)\n",
    "\n",
    "# A: 90점 이상\n",
    "# B: 80점 이상 90점 미만\n",
    "# C: 70점 이상 80점 미만\n",
    "# D: 60점 이상 70점 미만\n",
    "# F: 60점 미만\n",
    "# B\n",
    "# F\n",
    "# D\n",
    "# A"
   ]
  },
  {
   "cell_type": "code",
   "execution_count": null,
   "metadata": {},
   "outputs": [
    {
     "name": "stdout",
     "output_type": "stream",
     "text": [
      "8\n",
      "16\n",
      "32\n",
      "40\n",
      "56\n",
      "64\n",
      "80\n",
      "88\n"
     ]
    }
   ],
   "source": [
    "# while문과 if문을 활용하여, 100 이하의 자연수 중 8의 배수이지만 12의 배수는 아닌 것을 모두 출력하세요.\n",
    "# 예를 들어서 16은 8의 배수이지만 12의 배수가 아니니까 조건에 부합합니다. 하지만 48은 8의 배수이면서 12의 배수이기도 해서 조건에 부합하지 않습니다.\n",
    "# 실행하면 콘솔에 아래와 같이 출력되어야 합니다.\n",
    "\n",
    "    \n"
   ]
  },
  {
   "cell_type": "code",
   "execution_count": 77,
   "metadata": {},
   "outputs": [
    {
     "name": "stdout",
     "output_type": "stream",
     "text": [
      "333167\n"
     ]
    }
   ],
   "source": [
    "# 10보다 작은 2 또는 3의 배수는 2, 3, 4, 6, 8, 9이며, 이들의 합은 32입니다.\n",
    "# while문과 if문을 활용하여, 1,000보다 작은 자연수 중 2 또는 3의 배수의 합을 출력하는 프로그램을 써 보세요\n",
    "i = 1\n",
    "total = 0\n",
    "while i < 1000 :\n",
    "    if i % 2 == 0 or i % 3 == 0 :     #만약 i가 2의 배수 또는 3의 배수이면\n",
    "        total += i                    #total = total + i 을 해라\n",
    "\n",
    "    i += 1                            # i = i + 1\n",
    "\n",
    "print(total)"
   ]
  },
  {
   "cell_type": "code",
   "execution_count": 85,
   "metadata": {},
   "outputs": [
    {
     "name": "stdout",
     "output_type": "stream",
     "text": [
      "55\n"
     ]
    }
   ],
   "source": [
    "# 1부터 10까지의 합\n",
    "i = 1\n",
    "total = 0\n",
    "while i <= 10 :\n",
    "    total += i  #total = total + i   1+ 2 + 3 + 4.....\n",
    "    i += 1  # i = i +1\n",
    "\n",
    "print(total)"
   ]
  },
  {
   "cell_type": "code",
   "execution_count": 106,
   "metadata": {},
   "outputs": [
    {
     "name": "stdout",
     "output_type": "stream",
     "text": [
      "1\n",
      "2\n",
      "3\n",
      "4\n",
      "5\n",
      "6\n",
      "8\n",
      "10\n",
      "12\n",
      "15\n",
      "20\n",
      "24\n",
      "30\n",
      "40\n",
      "60\n",
      "120\n",
      "120의 약수는 총 16개 입니다.\n"
     ]
    }
   ],
   "source": [
    "# # 정수 n의 약수는 n을 나누었을 때 나누어 떨어지는 수입니다. 만약 정수 i가 정수 n의 약수라면, n을 i로 나누었을 때 나머지가 0이 나와야 하는 거죠.\n",
    "# # 정수 120의 약수를 모두 출력하고, 총 몇개의 약수가 있는지 출력하는 프로그램을 써 보세요. 아래처럼 콘솔에 출력되어야 합니다.\n",
    "\n",
    "N = 120\n",
    "i = 1\n",
    "count = 0\n",
    "\n",
    "while i <= 120 :\n",
    "    if N % i == 0 :\n",
    "        print(i)\n",
    "        count += 1\n",
    "    i += 1\n",
    "print(f\"120의 약수는 총 {count}개 입니다.\")\n",
    "    \n",
    "    \n",
    "\n",
    "# 1\n",
    "# 2\n",
    "# 3\n",
    "# 4\n",
    "# 5\n",
    "# 6\n",
    "# 8\n",
    "# 10\n",
    "# 12\n",
    "# 15\n",
    "# 20\n",
    "# 24\n",
    "# 30\n",
    "# 40\n",
    "# 60\n",
    "# 120\n",
    "# 120의 약수는 총 16개입니다."
   ]
  },
  {
   "cell_type": "code",
   "execution_count": 159,
   "metadata": {},
   "outputs": [
    {
     "name": "stdout",
     "output_type": "stream",
     "text": [
      "94193324원 차이로 동일 아저씨 말씀이 맞습니다.\n"
     ]
    }
   ],
   "source": [
    "# 1988년 쌍문동에 사는 택이는 바둑 대회 우승 상금으로 5,000만원을 받았습니다. 하지만 바둑 외에는 아는 게 없으니, 이웃 어른들에게 이 돈으로 무엇을 해야 할지 물어보기로 하였습니다.\n",
    "# 은행에서 근무하는 동일 아저씨는 은행에 돈을 맡겨서 매년 이자로 12%씩 받는 것을 추천하셨습니다. 1년 후인 1989년에는 5,000만원의 12% 이자인 600만원이 더해져 5,600만원이 된다고 하면서요.\n",
    "# 이 이야기를 들은 미란 아주머니는 고작 12% 때문에 생돈을 은행에 넣느냐며, 얼마 전 지어진 은마아파트를 사라고 추천하셨습니다. 당시 은마아파트의 매매가는 5,000만원이었죠.\n",
    "# 2016년 기준 은마아파트의 매매가는 11억원인데요. 1988년 은행에 5,000만원을 넣었을 경우 2016년에는 얼마가 있을지 계산하여, \n",
    "# 동일 아저씨와 미란 아주머니 중 누구의 말을 듣는 것이 좋았을지 판단해 보세요. 2016년 은행에 얼마가 있을지는 꼭 while문을 사용해서 계산해 주세요!\n",
    "# 2016년에 은행에 저축해 둔 금액이 더 크면, *원 차이로 동일 아저씨 말씀이 맞습니다.가 출력되도록 하세요. 반대로 은마아파트의 가격이 더 크면, \n",
    "# *원 차이로 미란 아주머니 말씀이 맞습니다.가 출력되도록 하세요. 여기서는 꼭 if문을 사용해 주세요!\n",
    "\n",
    "R = 0.12 #이자율\n",
    "n = 1 #연\n",
    "bank = 50000000\n",
    "building = 1100000000\n",
    "# 28년\n",
    "\n",
    "while n <= 28 :\n",
    "    bank *= (1+R)\n",
    "    n += 1\n",
    "if bank > building : \n",
    "    print(f\"{int(bank - building)}원 차이로 동일 아저씨 말씀이 맞습니다.\")\n",
    "else :\n",
    "    print(f\"{int(building - bank)}원 차이로 미란 아주머니 말씀이 맞습니다.\")\n",
    "    \n",
    "\n",
    "\n",
    "\n"
   ]
  },
  {
   "cell_type": "code",
   "execution_count": null,
   "metadata": {},
   "outputs": [],
   "source": [
    "# 피보나치 수열(Fibonacci Sequence)라고 들어 보셨나요?\n",
    "# 1,1,2,3,5,8,13,21,34,55,...\n",
    "\n",
    "# 우선 피보나치 수열의 1번 항과 2번 항은 각각 1입니다. 3번 항부터는 바로 앞 두 항의 합으로 계산됩니다.\n",
    "#  예를 들어서 3번 항은 1번 항(1)과 2번 항(1)을 더한 2이며, 4번 항은 2번 항(1)과 3번 항(2)을 더한 3입니다.\n",
    "# 피보나치 수열의 첫 50개 항을 차례대로 출력하는 프로그램을 작성해 보세요."
   ]
  },
  {
   "cell_type": "code",
   "execution_count": 85,
   "metadata": {},
   "outputs": [
    {
     "name": "stdout",
     "output_type": "stream",
     "text": [
      "1\n",
      "1\n",
      "2\n",
      "3\n",
      "5\n",
      "8\n",
      "13\n",
      "21\n",
      "34\n",
      "55\n"
     ]
    }
   ],
   "source": [
    "i = 1 # 항의 개수\n",
    "current = 1 # 현재항\n",
    "previous = 0 # 이전항\n",
    "\n",
    "while i <= 10 : \n",
    "    print(current)\n",
    "    temp = current + previous\n",
    "    previous = current\n",
    "    current = temp\n",
    "    i += 1\n",
    "    "
   ]
  },
  {
   "cell_type": "code",
   "execution_count": 90,
   "metadata": {},
   "outputs": [
    {
     "name": "stdout",
     "output_type": "stream",
     "text": [
      "1 * 1 = 1\n",
      "1 * 2 = 2\n",
      "1 * 3 = 3\n",
      "1 * 4 = 4\n",
      "1 * 5 = 5\n",
      "1 * 6 = 6\n",
      "1 * 7 = 7\n",
      "1 * 8 = 8\n",
      "1 * 9 = 9\n",
      "2 * 1 = 2\n",
      "2 * 2 = 4\n",
      "2 * 3 = 6\n",
      "2 * 4 = 8\n",
      "2 * 5 = 10\n",
      "2 * 6 = 12\n",
      "2 * 7 = 14\n",
      "2 * 8 = 16\n",
      "2 * 9 = 18\n",
      "3 * 1 = 3\n",
      "3 * 2 = 6\n",
      "3 * 3 = 9\n",
      "3 * 4 = 12\n",
      "3 * 5 = 15\n",
      "3 * 6 = 18\n",
      "3 * 7 = 21\n",
      "3 * 8 = 24\n",
      "3 * 9 = 27\n",
      "4 * 1 = 4\n",
      "4 * 2 = 8\n",
      "4 * 3 = 12\n",
      "4 * 4 = 16\n",
      "4 * 5 = 20\n",
      "4 * 6 = 24\n",
      "4 * 7 = 28\n",
      "4 * 8 = 32\n",
      "4 * 9 = 36\n",
      "5 * 1 = 5\n",
      "5 * 2 = 10\n",
      "5 * 3 = 15\n",
      "5 * 4 = 20\n",
      "5 * 5 = 25\n",
      "5 * 6 = 30\n",
      "5 * 7 = 35\n",
      "5 * 8 = 40\n",
      "5 * 9 = 45\n",
      "6 * 1 = 6\n",
      "6 * 2 = 12\n",
      "6 * 3 = 18\n",
      "6 * 4 = 24\n",
      "6 * 5 = 30\n",
      "6 * 6 = 36\n",
      "6 * 7 = 42\n",
      "6 * 8 = 48\n",
      "6 * 9 = 54\n",
      "7 * 1 = 7\n",
      "7 * 2 = 14\n",
      "7 * 3 = 21\n",
      "7 * 4 = 28\n",
      "7 * 5 = 35\n",
      "7 * 6 = 42\n",
      "7 * 7 = 49\n",
      "7 * 8 = 56\n",
      "7 * 9 = 63\n",
      "8 * 1 = 8\n",
      "8 * 2 = 16\n",
      "8 * 3 = 24\n",
      "8 * 4 = 32\n",
      "8 * 5 = 40\n",
      "8 * 6 = 48\n",
      "8 * 7 = 56\n",
      "8 * 8 = 64\n",
      "8 * 9 = 72\n",
      "9 * 1 = 9\n",
      "9 * 2 = 18\n",
      "9 * 3 = 27\n",
      "9 * 4 = 36\n",
      "9 * 5 = 45\n",
      "9 * 6 = 54\n",
      "9 * 7 = 63\n",
      "9 * 8 = 72\n",
      "9 * 9 = 81\n"
     ]
    }
   ],
   "source": [
    "i = 1\n",
    "\n",
    "while(i < 10):\n",
    "    j = 1\n",
    "    while(j < 10):\n",
    "        print(\"{} * {} = {}\".format(i,j,i*j))\n",
    "        j += 1\n",
    "    i += 1"
   ]
  },
  {
   "cell_type": "code",
   "execution_count": 94,
   "metadata": {},
   "outputs": [
    {
     "name": "stdout",
     "output_type": "stream",
     "text": [
      "6554 * 1 = 6554\n",
      "6554 * 2 = 13108\n",
      "6554 * 3 = 19662\n",
      "6554 * 4 = 26216\n",
      "6554 * 5 = 32770\n",
      "6554 * 6 = 39324\n",
      "6554 * 7 = 45878\n",
      "6554 * 8 = 52432\n",
      "6554 * 9 = 58986\n"
     ]
    }
   ],
   "source": [
    "# 구구단 만들기\n",
    "#  1 * 1 = 1\n",
    "#  1 * 2 = 2\n",
    "\n",
    "i = int(input())\n",
    "for j in range(1,10):\n",
    "    print(\"{} * {} = {}\".format(i,j, i*j))\n"
   ]
  }
 ],
 "metadata": {
  "kernelspec": {
   "display_name": "Python 3",
   "language": "python",
   "name": "python3"
  },
  "language_info": {
   "codemirror_mode": {
    "name": "ipython",
    "version": 3
   },
   "file_extension": ".py",
   "mimetype": "text/x-python",
   "name": "python",
   "nbconvert_exporter": "python",
   "pygments_lexer": "ipython3",
   "version": "3.11.3"
  },
  "orig_nbformat": 4
 },
 "nbformat": 4,
 "nbformat_minor": 2
}
